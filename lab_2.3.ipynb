{
  "nbformat": 4,
  "nbformat_minor": 0,
  "metadata": {
    "colab": {
      "provenance": [],
      "authorship_tag": "ABX9TyMqpd17geVKXp3glM/s5JN2",
      "include_colab_link": true
    },
    "kernelspec": {
      "name": "python3",
      "display_name": "Python 3"
    },
    "language_info": {
      "name": "python"
    }
  },
  "cells": [
    {
      "cell_type": "markdown",
      "metadata": {
        "id": "view-in-github",
        "colab_type": "text"
      },
      "source": [
        "<a href=\"https://colab.research.google.com/github/sammmmmmmm21/aiac/blob/main/lab_2.3.ipynb\" target=\"_parent\"><img src=\"https://colab.research.google.com/assets/colab-badge.svg\" alt=\"Open In Colab\"/></a>"
      ]
    },
    {
      "cell_type": "markdown",
      "source": [
        "Task Description#1 ● Use Google Gemini in Colab to write a function that reads a CSV file and calculates mean, min, max.\n",
        "\n",
        "Expected Output#1 ● Functional code with output and screenshot\n",
        "\n",
        "PROMPT: Write a Python function that reads a CSV file and calculates the mean, minimum, and maximum for each numeric column."
      ],
      "metadata": {
        "id": "fSd2X_5HU5Av"
      }
    },
    {
      "cell_type": "code",
      "metadata": {
        "id": "51e6f6bb"
      },
      "source": [
        "import pandas as pd\n",
        "\n",
        "def analyze_numeric_columns_in_csv(file_path):\n",
        "    \"\"\"\n",
        "    Reads a CSV file and calculates the mean, minimum, and maximum for each numeric column.\n",
        "\n",
        "    Args:\n",
        "        file_path (str): The path to the CSV file.\n",
        "\n",
        "    Returns:\n",
        "        dict: A dictionary where keys are numeric column names and values are\n",
        "              dictionaries containing the mean, minimum, and maximum values for each column,\n",
        "              or None if an error occurs or no numeric columns are found.\n",
        "    \"\"\"\n",
        "    try:\n",
        "        df = pd.read_csv(file_path)\n",
        "\n",
        "        numeric_columns = df.select_dtypes(include=['number'])\n",
        "\n",
        "        if numeric_columns.empty:\n",
        "            print(f\"No numeric columns found in the CSV file: {file_path}\")\n",
        "            return None\n",
        "\n",
        "        results = {}\n",
        "        for column_name in numeric_columns.columns:\n",
        "            column_data = numeric_columns[column_name]\n",
        "\n",
        "            # Drop NaN values before calculating stats\n",
        "            numeric_data = column_data.dropna()\n",
        "\n",
        "            if not numeric_data.empty:\n",
        "                mean_value = numeric_data.mean()\n",
        "                min_value = numeric_data.min()\n",
        "                max_value = numeric_data.max()\n",
        "\n",
        "                results[column_name] = {\n",
        "                    'mean': mean_value,\n",
        "                    'min': min_value,\n",
        "                    'max': max_value\n",
        "                }\n",
        "            else:\n",
        "                print(f\"Warning: Column '{column_name}' contains no valid numeric data after removing NaNs.\")\n",
        "\n",
        "\n",
        "        return results\n",
        "\n",
        "    except FileNotFoundError:\n",
        "        print(f\"Error: File not found at '{file_path}'\")\n",
        "        return None\n",
        "    except Exception as e:\n",
        "        print(f\"An error occurred: {e}\")\n",
        "        return None\n",
        "\n",
        "# Example usage with the provided file path\n",
        "file_path = \"/content/Book(Sheet1) (1).csv\"\n",
        "\n",
        "analysis_results = analyze_numeric_columns_in_csv(file_path)\n",
        "\n",
        "if analysis_results:\n",
        "    print(f\"Analysis results for numeric columns in '{file_path}':\")\n",
        "    for column, stats in analysis_results.items():\n",
        "        print(f\"\\nColumn: {column}\")\n",
        "        print(f\"  Mean: {stats['mean']}\")\n",
        "        print(f\"  Minimum: {stats['min']}\")\n",
        "        print(f\"  Maximum: {stats['max']}\")"
      ],
      "execution_count": null,
      "outputs": []
    },
    {
      "cell_type": "markdown",
      "source": [
        "Task Description#3 ● Ask Gemini to explain a Python function (to calculate area of various shapes) line by line.. Expected Output#3 ● Detailed explanation with code snippet PROMPT : Explain this Python function line by line. It calculates the area of various shapes"
      ],
      "metadata": {
        "id": "MO2ljZLoVhCg"
      }
    },
    {
      "cell_type": "code",
      "metadata": {
        "id": "ddcaffff"
      },
      "source": [
        "import math\n",
        "\n",
        "def calculate_area(shape, **kwargs):\n",
        "    \"\"\"\n",
        "    Calculates the area of various shapes.\n",
        "\n",
        "    Args:\n",
        "        shape (str): The name of the shape (e.g., 'circle', 'square', 'rectangle', 'triangle').\n",
        "        **kwargs: Keyword arguments for the dimensions of the shape.\n",
        "\n",
        "    Returns:\n",
        "        float: The area of the shape.\n",
        "        str: An error message if the shape is not supported or arguments are missing.\n",
        "    \"\"\"\n",
        "    shape = shape.lower()\n",
        "\n",
        "    if shape == 'circle':\n",
        "        radius = kwargs.get('radius')\n",
        "        if radius is not None:\n",
        "            return math.pi * radius**2\n",
        "        else:\n",
        "            return \"Error: Radius not provided for circle.\"\n",
        "    elif shape == 'square':\n",
        "        side = kwargs.get('side')\n",
        "        if side is not None:\n",
        "            return side**2\n",
        "        else:\n",
        "            return \"Error: Side length not provided for square.\"\n",
        "    elif shape == 'rectangle':\n",
        "        length = kwargs.get('length')\n",
        "        width = kwargs.get('width')\n",
        "        if length is not None and width is not None:\n",
        "            return length * width\n",
        "        else:\n",
        "            return \"Error: Length or width not provided for rectangle.\"\n",
        "    elif shape == 'triangle':\n",
        "        base = kwargs.get('base')\n",
        "        height = kwargs.get('height')\n",
        "        if base is not None and height is not None:\n",
        "            return 0.5 * base * height\n",
        "        else:\n",
        "            return \"Error: Base or height not provided for triangle.\"\n",
        "    else:\n",
        "        return f\"Error: Unsupported shape '{shape}'.\"\n",
        "\n",
        "# Example Usage:\n",
        "# print(calculate_area('circle', radius=5))\n",
        "# print(calculate_area('square', side=4))\n",
        "# print(calculate_area('rectangle', length=6, width=4))\n",
        "# print(calculate_area('triangle', base=3, height=5))\n",
        "# print(calculate_area('circle', side=5)) # Example of missing argument\n",
        "# print(calculate_area('hexagon', side=3)) # Example of unsupported shape"
      ],
      "execution_count": null,
      "outputs": []
    },
    {
      "cell_type": "markdown",
      "metadata": {
        "id": "ffad2d62"
      },
      "source": [
        "Let's go through this function line by line:"
      ]
    },
    {
      "cell_type": "code",
      "metadata": {
        "id": "ffa84166"
      },
      "source": [
        "def calculate_area(shape, **kwargs):"
      ],
      "execution_count": null,
      "outputs": []
    },
    {
      "cell_type": "code",
      "metadata": {
        "id": "81761746"
      },
      "source": [
        "    \"\"\"\n",
        "    Calculates the area of various shapes.\n",
        "\n",
        "    Args:\n",
        "        shape (str): The name of the shape (e.g., 'circle', 'square', 'rectangle', 'triangle').\n",
        "        **kwargs: Keyword arguments for the dimensions of the shape.\n",
        "\n",
        "    Returns:\n",
        "        float: The area of the shape.\n",
        "        str: An error message if the shape is not supported or arguments are missing.\n",
        "    \"\"\""
      ],
      "execution_count": null,
      "outputs": []
    },
    {
      "cell_type": "code",
      "metadata": {
        "id": "e80b1311"
      },
      "source": [
        "    shape = shape.lower()"
      ],
      "execution_count": null,
      "outputs": []
    },
    {
      "cell_type": "code",
      "metadata": {
        "id": "ca576955"
      },
      "source": [
        "    if shape == 'circle':\n",
        "        radius = kwargs.get('radius')\n",
        "        if radius is not None:\n",
        "            return math.pi * radius**2\n",
        "        else:\n",
        "            return \"Error: Radius not provided for circle.\""
      ],
      "execution_count": null,
      "outputs": []
    },
    {
      "cell_type": "code",
      "metadata": {
        "id": "7eb9403d"
      },
      "source": [
        "    elif shape == 'square':\n",
        "        side = kwargs.get('side')\n",
        "        if side is not None:\n",
        "            return side**2\n",
        "        else:\n",
        "            return \"Error: Side length not provided for square.\""
      ],
      "execution_count": null,
      "outputs": []
    },
    {
      "cell_type": "code",
      "metadata": {
        "id": "783354c2"
      },
      "source": [
        "    elif shape == 'rectangle':\n",
        "        length = kwargs.get('length')\n",
        "        width = kwargs.get('width')\n",
        "        if length is not None and width is not None:\n",
        "            return length * width\n",
        "        else:\n",
        "            return \"Error: Length or width not provided for rectangle.\""
      ],
      "execution_count": null,
      "outputs": []
    },
    {
      "cell_type": "code",
      "metadata": {
        "id": "466d291e"
      },
      "source": [
        "    elif shape == 'triangle':\n",
        "        base = kwargs.get('base')\n",
        "        height = kwargs.get('height')\n",
        "        if base is not None and height is not None:\n",
        "            return 0.5 * base * height\n",
        "        else:\n",
        "            return \"Error: Base or height not provided for triangle.\""
      ],
      "execution_count": null,
      "outputs": []
    },
    {
      "cell_type": "code",
      "metadata": {
        "id": "efb65c59"
      },
      "source": [
        "    else:\n",
        "        return f\"Error: Unsupported shape '{shape}'.\""
      ],
      "execution_count": null,
      "outputs": []
    },
    {
      "cell_type": "code",
      "metadata": {
        "id": "6321dca1"
      },
      "source": [
        "# Example Usage:\n",
        "# print(calculate_area('circle', radius=5))\n",
        "# print(calculate_area('square', side=4))\n",
        "# print(calculate_area('rectangle', length=6, width=4))\n",
        "# print(calculate_area('triangle', base=3, height=5))\n",
        "# print(calculate_area('circle', side=5)) # Example of missing argument\n",
        "# print(calculate_area('hexagon', side=3)) # Example of unsupported shape"
      ],
      "execution_count": null,
      "outputs": []
    },
    {
      "cell_type": "markdown",
      "source": [
        "Task Description#5 ● Student need to write code to calculate sum of add number and even numbers in the list Expected Output#5 ● Refactored code written by student with improved logic PROMPT : Write a program to calculate and print the sum of even and odd numbers from a given list."
      ],
      "metadata": {
        "id": "HU-uh2PxWmy3"
      }
    },
    {
      "cell_type": "code",
      "metadata": {
        "id": "08f48413"
      },
      "source": [
        "def sum_even_odd(numbers):\n",
        "  \"\"\"\n",
        "  Calculates the sum of even and odd numbers in a list.\n",
        "\n",
        "  Args:\n",
        "    numbers: A list of numbers.\n",
        "\n",
        "  Returns:\n",
        "    A tuple containing the sum of even numbers and the sum of odd numbers.\n",
        "  \"\"\"\n",
        "  sum_even = 0\n",
        "  sum_odd = 0\n",
        "  for number in numbers:\n",
        "    if number % 2 == 0:\n",
        "      sum_even += number\n",
        "    else:\n",
        "      sum_odd += number\n",
        "  return sum_even, sum_odd\n",
        "\n",
        "# Example usage:\n",
        "my_list = [1, 2, 3, 4, 5, 6, 7, 8, 9, 10]\n",
        "even_sum, odd_sum = sum_even_odd(my_list)\n",
        "\n",
        "print(f\"The list is: {my_list}\")\n",
        "print(f\"Sum of even numbers: {even_sum}\")\n",
        "print(f\"Sum of odd numbers: {odd_sum}\")"
      ],
      "execution_count": null,
      "outputs": []
    }
  ]
}